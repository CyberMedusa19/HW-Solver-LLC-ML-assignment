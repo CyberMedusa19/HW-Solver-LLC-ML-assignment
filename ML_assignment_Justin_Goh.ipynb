{
  "nbformat": 4,
  "nbformat_minor": 0,
  "metadata": {
    "colab": {
      "name": "ML assignment_Justin Goh",
      "provenance": [],
      "collapsed_sections": [
        "v5feQmN5NAes"
      ]
    },
    "kernelspec": {
      "name": "python3",
      "display_name": "Python 3"
    },
    "language_info": {
      "name": "python"
    },
    "accelerator": "TPU"
  },
  "cells": [
    {
      "cell_type": "markdown",
      "source": [
        "### Imports "
      ],
      "metadata": {
        "id": "v5feQmN5NAes"
      }
    },
    {
      "cell_type": "code",
      "source": [
        "# imports \n",
        "import pandas as pd\n",
        "import re"
      ],
      "metadata": {
        "id": "rNErRlquM_Oi"
      },
      "execution_count": null,
      "outputs": []
    },
    {
      "cell_type": "markdown",
      "source": [
        "## Approach\n",
        "\n",
        "__Goals:__ <br>\n",
        "Given a list of example technical skills, extract the technical skills of a given dataset\n",
        "\n",
        "__Step 1: Extracting the data__<br>\n",
        "Read in skills from \"Example_Technical_Skills.csv\" and 'Raw_Skills_Dataset.csv' and store them in their own dataframe. <br>\n",
        "This is done with the \"dataframe_create\" function. <br>\n",
        "\n",
        "Extract the information from \"Technology Skills\" and \"RAW DATA\" columns from \"Example_Technical_Skills.csv\" and 'Raw_Skills_Dataset.csv' respectively and store the extracted info into their own lists. <br>\n",
        "\n",
        "__Step 2: Comparing the data__<br>\n",
        "Compare the 2 lists and extract only the skills found in \"Example_Technical_Skills.csv\" from 'Raw_Skills_Dataset.csv' <br>\n",
        "\n",
        "__Step 3: Separating soft skills from technical skills__<br>\n",
        "Separate soft and technical skills. See below for more details"
      ],
      "metadata": {
        "id": "8qdfu72InQcm"
      }
    },
    {
      "cell_type": "markdown",
      "source": [
        "#### Helper Functions:"
      ],
      "metadata": {
        "id": "S5q0Newouvsn"
      }
    },
    {
      "cell_type": "code",
      "source": [
        "# Definiging helper functions \n",
        "\n",
        "def dataframe_create(str1):\n",
        "  \"\"\"\n",
        "  Create a dataframe from given csv file name.\n",
        "\n",
        "  Parameters:\n",
        "  str1: Name of csv file you wish to create dataframe from \n",
        "\n",
        "  Output: Pandas dataframe\n",
        "  \"\"\"\n",
        "\n",
        "  example = str1\n",
        "  df = pd.read_csv(example, sep='\\t',encoding=\"latin1\")\n",
        "  \n",
        "  return df \n",
        "\n",
        "\n",
        "def find_skill(list1,list2):\n",
        "  \"\"\" \n",
        "  Counts the number of skills in list1 that is present in list2. \n",
        "  \n",
        "  Parameters:\n",
        "  list1: List you want to check for skills\n",
        "  list2: Reference list of skills you want to check for\n",
        "\n",
        "  output: List of skills found in list1 present in list2\n",
        "  \n",
        "  \"\"\"\n",
        "  tech_skill = [skill for skill in list1 if skill in list2]\n",
        "\n",
        "  return tech_skill\n",
        "\n",
        "\n",
        "def uniq_skills(list1):\n",
        "\n",
        "  \"\"\" \n",
        "  Counts the number of Unique skills in list1. \n",
        "  \n",
        "  Parameters:\n",
        "  list1: List you want to check for Unique skills\n",
        "\n",
        "  output: List of Unique skills found in list1\n",
        "  \n",
        "  \"\"\"\n",
        "  tech_skills = []\n",
        "\n",
        "  for skill in range(len(list1)):\n",
        "    if list1[skill] not in tech_skills:\n",
        "      tech_skills.append(list1[skill])\n",
        "\n",
        "\n",
        "  return tech_skills\n"
      ],
      "metadata": {
        "id": "2G9de-pCMEzU"
      },
      "execution_count": null,
      "outputs": []
    },
    {
      "cell_type": "markdown",
      "source": [
        "#### Driver code: "
      ],
      "metadata": {
        "id": "zDbD6TGJutVM"
      }
    },
    {
      "cell_type": "code",
      "source": [
        "# STEP 1: \n",
        "\n",
        "# Creating dataframes from given csv files\n",
        "df_ex = dataframe_create('Example_Technical_Skills.csv')\n",
        "df_raw = dataframe_create('Raw_Skills_Dataset.csv')\n",
        "\n",
        "# Initialize empty lists to store data extracted from dataframes \n",
        "ex_skills = [] \n",
        "raw_data = []\n",
        "\n",
        "# Storing example tech skills in a list \n",
        "for line in range(len(df_ex[\"Technology Skills\"])):\n",
        "  input_skill = df_ex[\"Technology Skills\"].iloc[line]\n",
        "  ex_skills.append(input_skill)\n",
        "\n",
        "\n",
        "# Storing technical skills from raw_skills dataset \n",
        "for line in range(len(df_raw[\"RAW DATA\"])):\n",
        "  input_skill = df_raw[\"RAW DATA\"].iloc[line]\n",
        "  raw_data.append(input_skill)\n",
        "\n",
        "print(f'Number of Technical (Hard) skills from \"Example_Technical_Skills\" dataset:', len(ex_skills))\n",
        "print(f'Number of entries from \"Raw_Skills_Dataset\" dataset:',len(raw_data))"
      ],
      "metadata": {
        "colab": {
          "base_uri": "https://localhost:8080/"
        },
        "id": "O3M7F5x3lq8p",
        "outputId": "cb845d07-a0ed-4ff8-925c-c1df082ecc4a"
      },
      "execution_count": null,
      "outputs": [
        {
          "output_type": "stream",
          "name": "stdout",
          "text": [
            "Number of Technical (Hard) skills from \"Example_Technical_Skills\" dataset: 979\n",
            "Number of entries from \"Raw_Skills_Dataset\" dataset: 34116\n"
          ]
        }
      ]
    },
    {
      "cell_type": "code",
      "source": [
        "# STEP 2: \n",
        "# Running function \"find_skill\" to extract \"hard technical skills\" from \"raw_data\" list\n",
        "\n",
        "skills = find_skill(raw_data, ex_skills)\n",
        "print(f'Number of technical skills found in \"raw_data\":', len(skills))\n",
        "\n",
        "num_skills = uniq_skills(skills)\n",
        "print(f'Number of unique technical skills found in \"raw_data\":',len(num_skills))\n",
        "print(f'Unique techical skills extracted:',num_skills)"
      ],
      "metadata": {
        "colab": {
          "base_uri": "https://localhost:8080/"
        },
        "id": "IQSUfWrUYDyo",
        "outputId": "0879e2dc-d9d7-4c73-e440-5e6da3b3d899"
      },
      "execution_count": null,
      "outputs": [
        {
          "output_type": "stream",
          "name": "stdout",
          "text": [
            "Number of technical skills found in \"raw_data\": 259\n",
            "Number of unique technical skills found in \"raw_data\": 36\n",
            "Unique techical skills extracted: ['MySQL', 'SCSS', 'EAC', 'DevOps', 'OpenShift', 'GitHub', 'NetSuite', 'Bitbucket', 'Ethereum', 'Kotlin', 'Bash', 'FTP', 'OneStream', 'Consul', 'Force.com', 'Amazon Lambda', 'Radius', 'Gulp', 'Guidewire PolicyCenter', 'Adobe Photoshop', 'Eclipse', 'Phantom', 'Magento', 'Microsoft Azure Networking', 'ActiveMQ', 'SAP Lumira', 'SAP Analytics Cloud', 'PostGIS', 'SAS JMP', 'NuGet', 'DRM', 'SAS Enterprise Guide', 'Katalon', 'Apache Oozie', 'Octopus Deploy', 'SAS Base']\n"
          ]
        }
      ]
    },
    {
      "cell_type": "markdown",
      "source": [
        "### Step 3: __Separating soft skills from technical skills__\n",
        "\n",
        "Upon examing the data in 'Raw_Skills_Dataset.csv' I notice that the entries can be classified as __technical skills__, __soft skills__, or __random words__.<br>\n",
        "\n",
        "I attempt to sepate soft skills from technical skills by extracting the soft skills from the 'raw_data' list I created earlier.<br>\n",
        "\n",
        "To do this I create a regex expression that covers commonly desired soft skills such as: \n",
        "- Good Attitude\n",
        "- Communication Skills \n",
        "- Work ethic\n",
        "- Teamwork\n",
        "- Leadership qualities\n",
        "- Time management\n",
        "- Decision making\n",
        "- Conflict resolution\n",
        "- Critical thinking\n",
        "- Networking\n",
        "- Empathy\n",
        "- Problem-solving \n",
        "\n",
        "Of course this list is not exhaustive and can be prone to return values that are not considered soft skills. However it will filter out most of the entries considered __\"random words\"__ and give you a decent idea of what soft skills are present in your dataset.<br>\n",
        "\n",
        "With this I now have a function that can extract the techincal skills and soft skills. I can then apply the \"uniq_skills\" function created earlier to filter out repeated skills. \n",
        "\n",
        "\n"
      ],
      "metadata": {
        "id": "pzSaYiIKtECn"
      }
    },
    {
      "cell_type": "code",
      "source": [
        "def find_soft(list1):\n",
        "  \"\"\"\n",
        "  Finds soft skills in list1\n",
        "\n",
        "  Parameters:\n",
        "  list1: List you want to check for skills\n",
        "\n",
        "\n",
        "  output: List of skills found in list1 \n",
        " \n",
        "  \"\"\"\n",
        "\n",
        "  # List of desired softskills in regex\n",
        "  pattern = '[aA]ttitude[-\\s]\\w+|[pP]roblem[-\\s][sS]\\w+|[mM]entor\\w+|[cC]ommunication\\s[sS]kills|[pP]resent\\w+|[wW]ork\\s\\w+\\n|[tT]eamwork|[lL]eader\\w+|[tT]ime[-\\s][mM]anagement|[dD]ecision[-\\s]\\w+|[cC]onflict[-\\s]\\w+|[cC]ritical[-\\s][tT]hink\\w+|[nN]etworking|[eE]mpathy|[rR]esolution'\n",
        "\n",
        "  # Finding softskills in list1 \n",
        "  sft_sk = []\n",
        "  for i in range(len(list1)):\n",
        "    match = re.findall(pattern, list1[i])\n",
        "    if match: # If soft skill is found, append to list \"sft_sk\"\n",
        "      match = match[0].lower()\n",
        "      sft_sk.append(match)\n",
        "\n",
        "  return sft_sk"
      ],
      "metadata": {
        "id": "Ozo7G7Dn-bQS"
      },
      "execution_count": null,
      "outputs": []
    },
    {
      "cell_type": "code",
      "source": [
        "# Finding number of soft skills in dataset \n",
        "soft_sk = find_soft(raw_data)\n",
        "print(f\"Number of soft skills found in dataset:\", len(soft_sk))\n",
        "\n",
        "# Finding number of unique soft skills in dataset\n",
        "uniq_soft = uniq_skills(soft_sk)\n",
        "print(f'Number of unique soft skills found in \"raw_data\":',len(uniq_soft))\n",
        "print(f\"Unique soft skills extracted:\",uniq_soft)"
      ],
      "metadata": {
        "colab": {
          "base_uri": "https://localhost:8080/"
        },
        "id": "mtMREuKQzulW",
        "outputId": "eeb06b88-2c9a-4e1b-b9a2-aefd05a465dd"
      },
      "execution_count": null,
      "outputs": [
        {
          "output_type": "stream",
          "name": "stdout",
          "text": [
            "Number of soft skills found in dataset: 682\n",
            "Number of unique soft skills found in \"raw_data\": 26\n",
            "Unique soft skills extracted: ['problem-solving', 'problem-solver', 'mentors', 'leadership', 'decision models', 'problem solving', 'networking', 'empathy', 'resolution', 'mentorship', 'communication skills', 'problem solver', 'presentation', 'mentoring', 'presentations', 'teamwork', 'decision-making', 'presenter', 'critical thinkers', 'problem solvers', 'presentative', 'critical thinker', 'time management', 'time-management', 'presentatives', 'critical thinking']\n"
          ]
        }
      ]
    }
  ]
}